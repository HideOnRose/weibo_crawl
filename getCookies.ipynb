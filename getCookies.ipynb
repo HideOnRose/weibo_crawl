{
 "cells": [
  {
   "cell_type": "code",
   "execution_count": 1,
   "metadata": {},
   "outputs": [
    {
     "name": "stdout",
     "output_type": "stream",
     "text": [
      "UOR=,,login.sina.com.cn;SUHB=0D-1XnuMOGfjp_;SUB=_2A25z4CZWDeRhGeBM41EZ8y3KzD-IHXVQlBCerDV8PUNbmtANLU_ukW9NRKl5nGYP6OxR1VQLuMHuSMKLxwxjKEeW;SSOLoginState=1592022534;ALF=1623558532;ULV=1592022478349:1:1:1:9123521832492.027.1592022478339:;WBtopGlobal_register_version=fd6b3a12bb72ffed;WBStorage=42212210b087ca50|undefined;SINAGLOBAL=9123521832492.027.1592022478339;SUBP=0033WrSXqPxfM725Ws9jqgMF55529P9D9Wh-n.lFRJGamR1eocv1fYG75JpX5KzhUgL.FoqE1heRe0ecS0e2dJLoI7DzIgxLKc4CdNSL;Apache=9123521832492.027.1592022478339;_s_tentry=-;\n"
     ]
    }
   ],
   "source": [
    "#微博数据抓取\n",
    "\n",
    "import time\n",
    "import pandas as pd\n",
    "from selenium import webdriver\n",
    "\n",
    "username=\"13302732088\"\n",
    "password=\"my888oten0.0\"\n",
    "\n",
    "browser = webdriver.Chrome(r'chromedriver.exe')#通过chromedriver打开浏览器\n",
    "browser.get('https://s.weibo.com/weibo?q=%E7%8E%8B%E5%87%A4%E9%9B%85&nodup=1')#打开微博界面\n",
    "time.sleep(3)#休眠\n",
    "\n",
    "#点击登录\n",
    "browser.find_element_by_xpath('//a[@node-type=\"loginBtn\" and @class=\"S_txt1\"]').click()\n",
    "time.sleep(3)\n",
    "\n",
    "browser.find_element_by_xpath(\"//input[@name='username' and @action-type='text_copy']\").send_keys(username)\n",
    "# 输入微博账号\n",
    "time.sleep(3)\n",
    "\n",
    "browser.find_element_by_xpath(\"//input[@name='password' and @type='password']\").send_keys(password)\n",
    "time.sleep(3)\n",
    "\n",
    "browser.find_element_by_xpath(\"//a[@node-type='submitBtn' and @action-type='btn_submit']\").click()\n",
    "\n",
    "time.sleep(50) #在这段时间内接受验证码\n",
    "\n",
    "cookie_list=browser.get_cookies()#获取cookie\n",
    "cookie_string='' \n",
    "for cookie in cookie_list:#将cookie转换为字符串\n",
    "    if 'name' in cookie and 'value' in cookie:\n",
    "        cookie_string += cookie['name'] + '=' + cookie['value'] + ';'\n",
    "print(cookie_string)"
   ]
  },
  {
   "cell_type": "code",
   "execution_count": 2,
   "metadata": {},
   "outputs": [
    {
     "data": {
      "text/plain": [
       "1854"
      ]
     },
     "execution_count": 2,
     "metadata": {},
     "output_type": "execute_result"
    }
   ],
   "source": [
    "import json\n",
    "\n",
    "jsonCookies = json.dumps(cookie_list)\n",
    "\n",
    "with open('cookies.txt', 'w') as f:\n",
    "    f.write(jsonCookies)\n",
    "\n",
    "    \n",
    "# cookie_dir = []\n",
    "# for cookie in jsonCookies:\n",
    "#     cookie_dir.append({\n",
    "#         'domain': '.weibo.com',  # 此处xxx.com前，需要带点\n",
    "#         'name': cookie['name'],\n",
    "#         'value': cookie['value'],\n",
    "#         'path': '/',\n",
    "#         'expires': None\n",
    "#     })"
   ]
  },
  {
   "cell_type": "code",
   "execution_count": 3,
   "metadata": {},
   "outputs": [],
   "source": [
    "test = webdriver.Chrome(r'C:\\Program Files (x86)\\Google\\Chrome\\Application\\chromedriver.exe')#打开浏览器\n",
    "test.get('https://s.weibo.com/weibo?q=%E7%8E%8B%E5%87%A4%E9%9B%85&xsort=hot&suball=1&Refer=g')#打开微博界面\n",
    "\n",
    "test.delete_all_cookies()\n",
    "\n",
    "for cookie in cookie_list:\n",
    "         #该字段有问题所以删除就可以  浏览器打开后记得刷新页面 有的网页注入cookie后仍需要刷新一下\n",
    "    if 'expiry' in cookie:\n",
    "        del cookie['expiry']\n",
    "    test.add_cookie(cookie)\n",
    "\n",
    "test.refresh()\n",
    "time.sleep(5)#休眠\n",
    "\n",
    "btn = test.find_element_by_xpath(\"//body[@class='wbs-feed']/div[@class='m-main']/div[@id='pl_\"\n",
    "                                \"feed_main']/div[@class='m-wrap']/div[@id='pl_feedlist_index']/div[2]\"\n",
    "                                \"/div[@class='card-wrap'][1]/div[@class='card']/div[@class='card-act']/\"\n",
    "                                \"ul/li[3]/a\")\n",
    "btn.click()\n",
    "\n",
    "time.sleep(10)\n",
    "\n",
    "\n"
   ]
  },
  {
   "cell_type": "code",
   "execution_count": 4,
   "metadata": {},
   "outputs": [
    {
     "data": {
      "text/plain": [
       "[{'domain': '.weibo.com',\n",
       "  'httpOnly': False,\n",
       "  'name': 'UOR',\n",
       "  'path': '/',\n",
       "  'secure': False,\n",
       "  'value': ',,login.sina.com.cn'},\n",
       " {'domain': '.weibo.com',\n",
       "  'httpOnly': False,\n",
       "  'name': 'SUHB',\n",
       "  'path': '/',\n",
       "  'secure': False,\n",
       "  'value': '0D-1XnuMOGfjp_'},\n",
       " {'domain': '.weibo.com',\n",
       "  'httpOnly': True,\n",
       "  'name': 'SUB',\n",
       "  'path': '/',\n",
       "  'secure': False,\n",
       "  'value': '_2A25z4CZWDeRhGeBM41EZ8y3KzD-IHXVQlBCerDV8PUNbmtANLU_ukW9NRKl5nGYP6OxR1VQLuMHuSMKLxwxjKEeW'},\n",
       " {'domain': '.weibo.com',\n",
       "  'httpOnly': False,\n",
       "  'name': 'SSOLoginState',\n",
       "  'path': '/',\n",
       "  'secure': False,\n",
       "  'value': '1592022534'},\n",
       " {'domain': '.weibo.com',\n",
       "  'httpOnly': False,\n",
       "  'name': 'ALF',\n",
       "  'path': '/',\n",
       "  'secure': False,\n",
       "  'value': '1623558532'},\n",
       " {'domain': '.weibo.com',\n",
       "  'httpOnly': False,\n",
       "  'name': 'ULV',\n",
       "  'path': '/',\n",
       "  'secure': False,\n",
       "  'value': '1592022478349:1:1:1:9123521832492.027.1592022478339:'},\n",
       " {'domain': 's.weibo.com',\n",
       "  'httpOnly': False,\n",
       "  'name': 'WBtopGlobal_register_version',\n",
       "  'path': '/',\n",
       "  'secure': False,\n",
       "  'value': 'fd6b3a12bb72ffed'},\n",
       " {'domain': 's.weibo.com',\n",
       "  'httpOnly': False,\n",
       "  'name': 'WBStorage',\n",
       "  'path': '/',\n",
       "  'secure': False,\n",
       "  'value': '42212210b087ca50|undefined'},\n",
       " {'domain': '.weibo.com',\n",
       "  'httpOnly': False,\n",
       "  'name': 'SINAGLOBAL',\n",
       "  'path': '/',\n",
       "  'secure': False,\n",
       "  'value': '9123521832492.027.1592022478339'},\n",
       " {'domain': '.weibo.com',\n",
       "  'httpOnly': False,\n",
       "  'name': 'SUBP',\n",
       "  'path': '/',\n",
       "  'secure': False,\n",
       "  'value': '0033WrSXqPxfM725Ws9jqgMF55529P9D9Wh-n.lFRJGamR1eocv1fYG75JpX5KzhUgL.FoqE1heRe0ecS0e2dJLoI7DzIgxLKc4CdNSL'},\n",
       " {'domain': '.weibo.com',\n",
       "  'httpOnly': False,\n",
       "  'name': 'Apache',\n",
       "  'path': '/',\n",
       "  'secure': False,\n",
       "  'value': '9123521832492.027.1592022478339'},\n",
       " {'domain': '.weibo.com',\n",
       "  'httpOnly': False,\n",
       "  'name': '_s_tentry',\n",
       "  'path': '/',\n",
       "  'secure': False,\n",
       "  'value': '-'}]"
      ]
     },
     "execution_count": 4,
     "metadata": {},
     "output_type": "execute_result"
    }
   ],
   "source": [
    "cookie_list"
   ]
  },
  {
   "cell_type": "code",
   "execution_count": null,
   "metadata": {},
   "outputs": [],
   "source": []
  }
 ],
 "metadata": {
  "kernelspec": {
   "display_name": "Python 3",
   "language": "python",
   "name": "python3"
  },
  "language_info": {
   "codemirror_mode": {
    "name": "ipython",
    "version": 3
   },
   "file_extension": ".py",
   "mimetype": "text/x-python",
   "name": "python",
   "nbconvert_exporter": "python",
   "pygments_lexer": "ipython3",
   "version": "3.7.4"
  }
 },
 "nbformat": 4,
 "nbformat_minor": 2
}
